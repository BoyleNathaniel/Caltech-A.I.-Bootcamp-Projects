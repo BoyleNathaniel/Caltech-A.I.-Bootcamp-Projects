{
 "cells": [
  {
   "cell_type": "code",
   "execution_count": 1,
   "id": "9ab69353-4e20-437c-9c57-f0c2a2f2f920",
   "metadata": {},
   "outputs": [],
   "source": [
    "#prepare data and explore data "
   ]
  },
  {
   "cell_type": "code",
   "execution_count": 2,
   "id": "76ac37b5-4bce-4eeb-8dc5-99684d47492c",
   "metadata": {},
   "outputs": [],
   "source": [
    "import pandas as pd\n",
    "import numpy as np\n",
    "import matplotlib.pyplot as plt"
   ]
  },
  {
   "cell_type": "code",
   "execution_count": 4,
   "id": "1ecebe51-c6da-4c37-ad3a-a1d7b2497b91",
   "metadata": {},
   "outputs": [],
   "source": [
    "#read = pd.read_csv('...')"
   ]
  },
  {
   "cell_type": "code",
   "execution_count": 5,
   "id": "1a2d0a42-ddbc-4c5e-b5c5-e660ac8545a0",
   "metadata": {},
   "outputs": [],
   "source": [
    "#df.info()"
   ]
  },
  {
   "cell_type": "code",
   "execution_count": 6,
   "id": "bfe86e79-bbe4-412a-86b8-2114218a6467",
   "metadata": {},
   "outputs": [],
   "source": [
    "#plot and see how many cusises we have\n",
    "\n",
    "#df.data.value_counts().ploy.barh()\n"
   ]
  },
  {
   "cell_type": "code",
   "execution_count": 7,
   "id": "1dff6768-861c-426d-8829-59ffb178deae",
   "metadata": {},
   "outputs": [],
   "source": [
    "#create function, see what all ingredents are present\n",
    "\n",
    "#food_category_1_df = [df[df.data == 'food_category_1')]\n",
    "#food_category_2_df = [df[df.data == 'food_category_2')]\n",
    "#food_category_3_df = [df[df.data == 'food_category_3')]\n",
    "#food_category_4_df = [df[df.data == 'food_category_4')]\n",
    "\n",
    "#now we have a dataframe for each individual category"
   ]
  },
  {
   "cell_type": "code",
   "execution_count": 8,
   "id": "9734acb1-c789-484f-98a2-6b34f3a4a7c3",
   "metadata": {},
   "outputs": [],
   "source": [
    "#print\n",
    "#print(f'food_category_1 df : {food_category_1.shape}')\n",
    "#print(f'food_category_2 df : {food_category_2.shape}')\n",
    "#print(f'food_category_3 df : {food_category_3.shape}')\n",
    "#print(f'food_category_4 df : {food_category_4.shape}')"
   ]
  },
  {
   "cell_type": "markdown",
   "id": "e04271a5-6242-4ad9-818e-b8a275b37022",
   "metadata": {
    "jp-MarkdownHeadingCollapsed": true,
    "tags": []
   },
   "source": [
    "create ingredients function, such that we know how many ingredents have been used for each type of dish\n",
    "\n",
    "def create_ingredient_df(df):\n",
    "    ingredent_df = df.T.drop(['cusisne', Unamed: 0']).sum(axis=1).to_frame('value')\n",
    "    ingredent_df = df.sort_values(by = 'value', ascnding=False, inplace = True)\n",
    "    return ingredient_df\n",
    "    "
   ]
  },
  {
   "cell_type": "markdown",
   "id": "31345fce-6b4a-491b-acdd-fb3b76ce74ff",
   "metadata": {},
   "source": [
    "printing out ingredents used in food category 1 by creating new dataframe\n",
    "ingrendents_1_df = create_ingredient_df(food_category_1_df)\n",
    "prints first 10 ingredents\n",
    "ingrendents_1_df.head(10).plot.barh()\n",
    "\n",
    "you can repeat this for all other categories\n",
    "We will see differnces in other categories"
   ]
  },
  {
   "cell_type": "markdown",
   "id": "37e430c7-50dc-4933-9e6b-3e15d586ab7a",
   "metadata": {},
   "source": [
    "Since we see common ingredents used, we create a feature to represent these ingredents and drop them so that it doens't influence our model\n",
    "\n",
    "feature_df = df.drop(['cuisine', 'Unamed:0', 'rice', 'garlic', 'ginger'], axis=1)\n",
    "lables_df = df.data\n",
    "feature_df.head()"
   ]
  },
  {
   "cell_type": "markdown",
   "id": "9433ad50-d5e8-4792-960d-4891d1b37b89",
   "metadata": {},
   "source": [
    "Notice we have an \"imbalanced\" dataset\n",
    "This means some dataframes have more data than others\n",
    "To balance this we use SMOTE\n",
    "\n",
    "from imblearn.over_sampling import SMOTE\n",
    "oversample = SMOTE()\n",
    "transformed_feature_df, transformed_label_df = oversample.fit_resample(feature_df, labels_df)"
   ]
  },
  {
   "cell_type": "markdown",
   "id": "eec19f2e-60a7-4286-8a37-95d3c78bcb07",
   "metadata": {},
   "source": [
    "print new dataframes after oversampling\n",
    "\n",
    "print(f'new label count: {transformed_label_df.value_counts()}')\n",
    "print(f'old label count: {lables_Df.value_counts()}')"
   ]
  },
  {
   "cell_type": "markdown",
   "id": "cd07d339-5d5a-4539-89de-33bbb2a0607b",
   "metadata": {},
   "source": [
    "Now we can fit logitsic regression model\n",
    "\n",
    "from sklearn.linear_model import LogitsicRegression\n",
    "from sklearn.model_seletcion import train_test_split, cross_val_score\n",
    "from sklearn.metrics import accuracy_score, classification_report"
   ]
  },
  {
   "cell_type": "markdown",
   "id": "44ab6cee-f4b0-4b00-8614-46f53ae5260c",
   "metadata": {},
   "source": [
    "X_train, X_test, y_train, y_test = train_test_split(transformed_feature_df, transofrmed_label_df, test_size = 0.3)"
   ]
  },
  {
   "cell_type": "markdown",
   "id": "d7ebdee5-6582-42ba-9d4f-97a1c5994030",
   "metadata": {},
   "source": [
    "lr = LogitsicRegression(multi_class='ovr', solver = 'liblinear')\n",
    "model = lr.fit(X_train, np.ravel(y_train))\n",
    "\n",
    "accuracy = model.score(X_test, y_test)\n",
    "print('Accuracy is {}'.format(accuracy))"
   ]
  },
  {
   "cell_type": "markdown",
   "id": "4155e2f3-18fc-4c72-a45a-ccb651526827",
   "metadata": {},
   "source": [
    "Now we can test our model and see probablities\n"
   ]
  },
  {
   "cell_type": "markdown",
   "id": "f482d7e4-8547-45f7-9813-950cd50a177c",
   "metadata": {},
   "source": [
    "We can also check classification report\n",
    "y_pred = model.predict(X_test)\n",
    "print(classification_report(y_test, y_pred)"
   ]
  },
  {
   "cell_type": "markdown",
   "id": "6f76c272-0734-43e5-b178-262556e9c9b7",
   "metadata": {},
   "source": [
    "The classification report on logistic regression will tell us how accuracte the model is at predicting the different categories"
   ]
  }
 ],
 "metadata": {
  "kernelspec": {
   "display_name": "Python 3 [3.10]",
   "language": "python",
   "name": "python3"
  },
  "language_info": {
   "codemirror_mode": {
    "name": "ipython",
    "version": 3
   },
   "file_extension": ".py",
   "mimetype": "text/x-python",
   "name": "python",
   "nbconvert_exporter": "python",
   "pygments_lexer": "ipython3",
   "version": "3.10.2"
  }
 },
 "nbformat": 4,
 "nbformat_minor": 5
}
