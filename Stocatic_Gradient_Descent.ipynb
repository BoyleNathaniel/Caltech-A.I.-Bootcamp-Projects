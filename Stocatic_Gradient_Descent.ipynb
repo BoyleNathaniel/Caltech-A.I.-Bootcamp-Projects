{
 "cells": [
  {
   "cell_type": "code",
   "execution_count": 23,
   "id": "1cc6f239-cc1e-43a4-bd1d-4135f02707a2",
   "metadata": {},
   "outputs": [],
   "source": [
    "#SGC from scratch"
   ]
  },
  {
   "cell_type": "code",
   "execution_count": 23,
   "id": "1d8f4e58-13e5-4322-b073-d676c824354e",
   "metadata": {},
   "outputs": [],
   "source": [
    "import numpy as np\n",
    "import pandas as pd\n",
    "import matplotlib.pyplot as plt\n",
    "import seaborn as sns\n",
    "from sklearn import datasets\n",
    "from sklearn.model_selection import train_test_split "
   ]
  },
  {
   "cell_type": "code",
   "execution_count": 24,
   "id": "fcf415e7-46fd-48f2-b611-0215ea1d0c91",
   "metadata": {},
   "outputs": [],
   "source": [
    "bc = datasets.load_breast_cancer()\n",
    "X=bc.data\n",
    "y=bc.target"
   ]
  },
  {
   "cell_type": "code",
   "execution_count": 25,
   "id": "3c392967-cf0b-48df-80e2-6ed1f15d0954",
   "metadata": {},
   "outputs": [],
   "source": [
    "#split into test and train data\n",
    "X_train, X_test, y_train, y_test = train_test_split(X,y, test_size=0.3, random_state=42, stratify=y)"
   ]
  },
  {
   "cell_type": "code",
   "execution_count": 30,
   "id": "b345c064-654f-48d0-b02c-ca67164cafc0",
   "metadata": {},
   "outputs": [],
   "source": [
    "#create class\n",
    "class CustomPerceptron(object):\n",
    "    \n",
    "    def __init__(self, n_iterations=100, random_state=1, learning_rate=0.01):\n",
    "        self.n_iterations = n_iterations\n",
    "        self.random_state = random_state\n",
    "        self.learning_rate = learning_rate\n",
    "        \n",
    "    def fit(self, X, y):\n",
    "        rgen = np.random.RandomState(self.random_state)\n",
    "        self.coef_ = rgen.normal(loc=0.0, scale=0.01, size = 1 + X.shape[1])\n",
    "        for _ in range(self.n_iterations):\n",
    "            for xi, expected_value in zip(X,y): #fit X and y and add predicted value\n",
    "                predicted_value = self.predict(xi)\n",
    "                self.coef_[1:]+= self.learning_rate * (expected_value - predicted_value) * xi\n",
    "                self.coef_[0] += self.learning_rate * (expected_value - predicted_value) * 1\n",
    "                \n",
    "    def activation(self,X):\n",
    "        return np.dot(X, self.coef_[1:]) + self.coef_[0]\n",
    "    def predict(self, X):\n",
    "        output = self.activation(X)\n",
    "        return np.where(output >= 0.0, 1, 0)\n",
    "    \n",
    "    def score(self, X, y):\n",
    "        misclassified_data_count = 0\n",
    "        for xi, target in zip(X,y):\n",
    "            output = self.predict(xi)\n",
    "            if(target!= output):\n",
    "                misclassified_data_count += 1\n",
    "        total_data_count = len(X)\n",
    "        self.score_ = (total_data_count - misclassified_data_count)/total_data_count\n",
    "        return self.score_\n",
    "        "
   ]
  },
  {
   "cell_type": "code",
   "execution_count": 31,
   "id": "7d1071ec-3916-47a6-a302-55fd0eb45960",
   "metadata": {},
   "outputs": [],
   "source": [
    "n_iterations = 100 #steps of SGC\n",
    "learning_rate = 0.01 #size of step\n"
   ]
  },
  {
   "cell_type": "code",
   "execution_count": 32,
   "id": "ef9db88c-fcba-4b83-b64b-dbe960fd513d",
   "metadata": {},
   "outputs": [],
   "source": [
    "#fit the model\n",
    "prcptrn = CustomPerceptron()\n",
    "prcptrn.fit(X_train, y_train)"
   ]
  },
  {
   "cell_type": "code",
   "execution_count": 33,
   "id": "8eb0bb38-d3cf-42d7-bf29-de5098ca9a1d",
   "metadata": {},
   "outputs": [
    {
     "name": "stdout",
     "output_type": "stream",
     "text": [
      "0.9064327485380117\n"
     ]
    },
    {
     "data": {
      "text/plain": [
       "0.9296482412060302"
      ]
     },
     "execution_count": 33,
     "metadata": {},
     "output_type": "execute_result"
    }
   ],
   "source": [
    "#print score\n",
    "print(prcptrn.score(X_test, y_test))\n",
    "prcptrn.score(X_train, y_train)"
   ]
  },
  {
   "cell_type": "code",
   "execution_count": null,
   "id": "89ecb691-197d-4339-b780-02e06161875b",
   "metadata": {},
   "outputs": [],
   "source": [
    "#see test score of 90% and train score 92% "
   ]
  }
 ],
 "metadata": {
  "kernelspec": {
   "display_name": "Python 3 [3.10]",
   "language": "python",
   "name": "python3"
  },
  "language_info": {
   "codemirror_mode": {
    "name": "ipython",
    "version": 3
   },
   "file_extension": ".py",
   "mimetype": "text/x-python",
   "name": "python",
   "nbconvert_exporter": "python",
   "pygments_lexer": "ipython3",
   "version": "3.10.2"
  }
 },
 "nbformat": 4,
 "nbformat_minor": 5
}
